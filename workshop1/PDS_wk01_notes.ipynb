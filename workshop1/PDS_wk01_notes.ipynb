{
 "cells": [
  {
   "cell_type": "markdown",
   "id": "final-colon",
   "metadata": {
    "tags": []
   },
   "source": [
    "# Programming for Data Science\n",
    "UFCFVQ-15-M\n",
    "\n",
    "- team: David Wyatt (module leader), Eman Qaddoumi, Mahmoud Elbattah, Jan Van lent\n",
    "- today: module materials (Blackboard), development tools (Git, GitLab, Jupyter Notebook files, Jupyter Lab)\n",
    "- files to download: `Week 1 Worksheet.docx` , `titanic.csv`, `Week 1 Jupyter Notebook.ipynb`, module handbook\n",
    "- introductory tasks (from Week 1 Worksheet):\n",
    "  - Git tutorial\n",
    "  - Week 1 Jupyter Notebook: download, move, open, work through\n",
    "  - Git repository for your work\n",
    "- create GitHub account (for assessment)"
   ]
  },
  {
   "cell_type": "markdown",
   "id": "announced-klein",
   "metadata": {},
   "source": [
    "- GitLab tutorial: The GIT tutorial is available at https://fetstudy.uwe.ac.uk/~di2-wyatt/FVQ/git_tutorial/\n",
    "- Google Colab: https://colab.research.google.com/\n",
    "Jupyter Online\n",
    "- VS Code: https://code.visualstudio.com/docs/introvideos/basics\n",
    "- Python in VS Code: https://code.visualstudio.com/docs/python/python-tutorial\n",
    "- Anaconda: https://docs.anaconda.com/anaconda/\n",
    "- Jupyter Notebook: https://jupyter-notebook.readthedocs.io/en/stable/\n",
    "- GIT: https://git-scm.com/doc\n",
    "- Extensive GIT tutorial: https://www.vogella.com/tutorials/Git/article.html\n",
    "- GitHub: https://github.com/"
   ]
  },
  {
   "cell_type": "markdown",
   "id": "golden-closure",
   "metadata": {},
   "source": [
    "# Git, GitLab and GitHub\n",
    "by next week make sure you can\n",
    "\n",
    "- configure git (name, email)\n",
    "- make repository on UWE GitLab\n",
    "- use `git init` and `git clone`\n",
    "- use `git status`\n",
    "- use `git add`\n",
    "- use `git commit`\n",
    "- use `git push`\n",
    "\n",
    "make sure you have created a GitHub account\n",
    "\n",
    "# Python\n",
    "by next week make sure you can\n",
    "\n",
    "- start empty Jupyter Notebook\n",
    "- download existing Notebook, open it and run cells\n"
   ]
  },
  {
   "cell_type": "markdown",
   "id": "adapted-tribe",
   "metadata": {},
   "source": [
    "# Notes\n",
    "- GitLab two factor authentication?\n",
    "  ignore for now\n",
    "- Git not available on AppsAnywhere on student computer.\n",
    "  Install directly from Git website.\n",
    "- on mac or linux: git built-in.\n",
    "  access using \"Terminal\" application\n",
    "- important distinction: Git - version control system, GitLab/GitHub - systems for hosting Git repositories online\n",
    "- Python: download and install from Anaconda website\n",
    "- important distinction: Jupyter Notebook **files** vs Jupyter Notebook **interfaces** (e.g., Classic Jupyter Notebook Interface, Jupyter Lab, VS Code, etc.)\n",
    "- Jupyter Lab or Classic Jupyter Notebook Interface: double-clicking might not work, open notebook files from application."
   ]
  },
  {
   "cell_type": "code",
   "execution_count": null,
   "id": "saving-mason",
   "metadata": {},
   "outputs": [],
   "source": []
  }
 ],
 "metadata": {
  "jupytext": {
   "formats": "py:percent,ipynb"
  },
  "kernelspec": {
   "display_name": "Python 3 (ipykernel)",
   "language": "python",
   "name": "python3"
  },
  "language_info": {
   "codemirror_mode": {
    "name": "ipython",
    "version": 3
   },
   "file_extension": ".py",
   "mimetype": "text/x-python",
   "name": "python",
   "nbconvert_exporter": "python",
   "pygments_lexer": "ipython3",
   "version": "3.9.13"
  }
 },
 "nbformat": 4,
 "nbformat_minor": 5
}
